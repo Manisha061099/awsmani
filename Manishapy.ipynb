{
    "cells": [
        {
            "cell_type": "code",
            "execution_count": 1,
            "metadata": {},
            "outputs": [
                {
                    "data": {
                        "text/html": "<div>\n<style scoped>\n    .dataframe tbody tr th:only-of-type {\n        vertical-align: middle;\n    }\n\n    .dataframe tbody tr th {\n        vertical-align: top;\n    }\n\n    .dataframe thead th {\n        text-align: right;\n    }\n</style>\n<table border=\"1\" class=\"dataframe\">\n  <thead>\n    <tr style=\"text-align: right;\">\n      <th></th>\n      <th>sl</th>\n      <th>name</th>\n      <th>trade</th>\n    </tr>\n  </thead>\n  <tbody>\n    <tr>\n      <th>0</th>\n      <td>1</td>\n      <td>manisha</td>\n      <td>adit</td>\n    </tr>\n    <tr>\n      <th>1</th>\n      <td>2</td>\n      <td>rajkumar</td>\n      <td>csa</td>\n    </tr>\n    <tr>\n      <th>2</th>\n      <td>3</td>\n      <td>nandkishor</td>\n      <td>adit</td>\n    </tr>\n    <tr>\n      <th>3</th>\n      <td>4</td>\n      <td>vivek</td>\n      <td>em</td>\n    </tr>\n    <tr>\n      <th>4</th>\n      <td>5</td>\n      <td>anurag</td>\n      <td>adit</td>\n    </tr>\n  </tbody>\n</table>\n</div>",
                        "text/plain": "   sl        name trade\n0   1     manisha  adit\n1   2    rajkumar   csa\n2   3  nandkishor  adit\n3   4       vivek    em\n4   5      anurag  adit"
                    },
                    "execution_count": 1,
                    "metadata": {},
                    "output_type": "execute_result"
                }
            ],
            "source": "# The code was removed by Watson Studio for sharing."
        },
        {
            "cell_type": "code",
            "execution_count": null,
            "metadata": {},
            "outputs": [],
            "source": ""
        }
    ],
    "metadata": {
        "kernelspec": {
            "display_name": "Python 3.10",
            "language": "python",
            "name": "python3"
        },
        "language_info": {
            "codemirror_mode": {
                "name": "ipython",
                "version": 3
            },
            "file_extension": ".py",
            "mimetype": "text/x-python",
            "name": "python",
            "nbconvert_exporter": "python",
            "pygments_lexer": "ipython3",
            "version": "3.10.13"
        }
    },
    "nbformat": 4,
    "nbformat_minor": 1
}